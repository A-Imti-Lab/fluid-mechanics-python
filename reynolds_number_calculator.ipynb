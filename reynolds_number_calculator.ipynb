{
  "nbformat": 4,
  "nbformat_minor": 0,
  "metadata": {
    "colab": {
      "provenance": [],
      "authorship_tag": "ABX9TyMbCuzq1SXPgP/97GtaU3DJ",
      "include_colab_link": true
    },
    "kernelspec": {
      "name": "python3",
      "display_name": "Python 3"
    },
    "language_info": {
      "name": "python"
    }
  },
  "cells": [
    {
      "cell_type": "markdown",
      "metadata": {
        "id": "view-in-github",
        "colab_type": "text"
      },
      "source": [
        "<a href=\"https://colab.research.google.com/github/A-Imti-Lab/fluid-mechanics-python/blob/main/reynolds_number_calculator.ipynb\" target=\"_parent\"><img src=\"https://colab.research.google.com/assets/colab-badge.svg\" alt=\"Open In Colab\"/></a>"
      ]
    },
    {
      "cell_type": "code",
      "source": [
        "rho = float (input(\"Insert fluid density, kg/m3: \"))\n",
        "V = float (input(\"Insert fluid velocity, m/s: \"))\n",
        "L = float (input (\"Insert characteristic length, m: \"))\n",
        "mu = float (input (\"Insert fluid viscosity, Pa.s: \"))\n",
        "\n",
        "Re = rho * V * L / mu\n",
        "print (\"Reynolds number is:\", Re)\n",
        "if Re < 2300:\n",
        "  print (\"The flow is laminar\")\n",
        "elif Re < 4000:\n",
        "  print (\"The flow is transitional\")\n",
        "else:\n",
        "  print (\"The flow is turbulent\")\n",
        "\n"
      ],
      "metadata": {
        "id": "ZPvnpmOpC6zx",
        "colab": {
          "base_uri": "https://localhost:8080/"
        },
        "outputId": "1b54b171-947c-4c0d-f662-6969cc96ccf5"
      },
      "execution_count": 10,
      "outputs": [
        {
          "output_type": "stream",
          "name": "stdout",
          "text": [
            "Insert fluid density, kg/m3: 1.25\n",
            "Insert fluid velocity, m/s: 30\n",
            "Insert characteristic length, m: 0.1\n",
            "Insert fluid viscosity, Pa.s: 0.003\n",
            "Reynolds number is: 1250.0\n",
            "The flow is laminar\n"
          ]
        }
      ]
    },
    {
      "cell_type": "code",
      "source": [],
      "metadata": {
        "id": "WQnaMqix5ChY"
      },
      "execution_count": null,
      "outputs": []
    }
  ]
}